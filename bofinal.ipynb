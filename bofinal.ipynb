Linear regression by using Deep Neural network: Implement Boston housing price
prediction problem by linear regression using Deep Neural network. Use Boston House
price prediction dataset.
import pandas as pd
from sklearn.model_selection import train_test_split
from sklearn.preprocessing import StandardScaler
from sklearn.metrics import mean_absolute_error, mean_squared_error, r2_score
from tensorflow.keras.models import Sequential
from tensorflow.keras.layers import Dense
df=pd.read_csv('boston_housing.csv')
df.head()
df.describe
df.info()
df.isnull().sum()
X = df.drop(['MEDV'], axis=1)
y = df['MEDV']
scaler = StandardScaler()
X_scaled = scaler.fit_transform(X)

X_train, X_test, y_train, y_test = train_test_split(X_scaled, y, test_size=0.2, random_state=42)

model = Sequential([
    Dense(64, activation='relu'),
    Dense(32, activation='relu'),
    Dense(1)
])
model.compile(optimizer='adam', loss='mse', metrics=['mae'])
model.fit(X_train, y_train, epochs=50, validation_data=(X_test, y_test))
model.summary()
output = model.evaluate(X_test,y_test)
y_pred = model.predict(x=X_test)
mae = mean_absolute_error(y_test, y_pred)
mse = mean_squared_error(y_test, y_pred)
r2 = r2_score(y_test, y_pred)
print(mae)
print("mse",mse)
print("r2_score",r2)
print("\nPredicted Prices vs Actual Prices (First 5 samples):")
for i in range(5):
    print("Predicted:", y_pred[i], "| Actual:", y_test.iloc[i])
import seaborn as sns

sns.scatterplot(data=df, x=df['rm'], y=df['MEDV'])
##room vs price

sns.histplot(y_train, bins=20, kde=True, color='green')

# --- Predict using predefined user input values ---
print("\n--- Predict Boston House Price from Predefined Input ---")

# Define default user input values for all 13 features
# (These values are taken from the first row of the dataset as an example)
user_input = [0.00632, 18.0, 2.31, 0, 0.538, 6.575, 65.2, 4.0900, 1, 296, 15.3, 396.90, 4.98]
input_features = ['crim', 'zn', 'indus', 'chas', 'nox', 'rm', 'age',
                  'dis', 'rad', 'tax', 'ptratio', 'b', 'lstat']

# Convert to DataFrame and scale
user_df = pd.DataFrame([user_input], columns=input_features)
user_scaled = scaler.transform(user_df)

# Predict using the model
predicted_price = model.predict(user_scaled)
print(f"Predicted House Price: ${predicted_price[0][0]:.2f}")

